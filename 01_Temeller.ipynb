{
 "cells": [
  {
   "cell_type": "markdown",
   "id": "19755032-5520-4c64-84e9-e6e030f7e264",
   "metadata": {},
   "source": [
    "# Temeller\n",
    "## Elektrik-Elektronik Mühendisliği Bölümü, Bilgisayar Programlama, Erzincan, 2024\n",
    "#### Dr. Aykut Görkem GELEN\n",
    "\n",
    "### Değişken Tanımlama\n",
    "Değişkenler değişken ismi = değişken değeri şeklinde tanımlanır. Değişken ismi akılda kalacak ve programı yazan kişi tarafından belirlenen bir metindir. Örneğin aşağıda iki sayının toplamını hesaplayan kısa bir kod parçası yer almaktadır. Örnekte ilk_sayi değişkenine 5 değeri atanmıştır. ikinci_sayi olarak isimlendirilen değişkene ise 9 değeri atanmıştır. Sonraki satırda toplam değişkeni daha önce tanımlanan değişken isimleri kullanılarak hesaplanmaktadır. Bu durum bir çeşit referans sistemi oluşturmakta ve değerleri sürekli hatırlamak, güncellemek gibi sorunları ortadan kaldırmaktadır."
   ]
  },
  {
   "cell_type": "code",
   "execution_count": 23,
   "id": "c10aa929-e99c-4116-8992-14ef2fbfeb69",
   "metadata": {},
   "outputs": [],
   "source": [
    "ilk_sayi = 5\n",
    "ikinci_sayi = 9\n",
    "toplam = ilk_sayi + ikinci_sayi"
   ]
  },
  {
   "cell_type": "markdown",
   "id": "597b830a-f9c7-4e29-b873-a686022d4bb0",
   "metadata": {},
   "source": [
    "Python özelinde değişkenlere farklı veri tiplerinde değerler atanabilir. Bir değişkene ikinci kez değer atadığınızda eski değer yenisi ile değiştirlir ve eski değere ulaşılamaz. Aşağıda üç değişkene sırasıyla bir rakam, ondalıklı bir sayı ve metin atanmıştır. Daha sonra ondalıklı sayiyi tutan değişken bir metin ile değiştirilmiştir."
   ]
  },
  {
   "cell_type": "code",
   "execution_count": 24,
   "id": "8273d4c0-a10c-46ec-9177-86dd7d642751",
   "metadata": {},
   "outputs": [],
   "source": [
    "rakam = 4\n",
    "deger_3 = 4.1\n",
    "ilk_baslik = \"Bilgisayar Programlama\"\n",
    "\n",
    "deger_3 = \"degişim\""
   ]
  },
  {
   "cell_type": "markdown",
   "id": "07374b7c-e7f7-4a4b-9f95-f47f89b7ea3d",
   "metadata": {},
   "source": [
    "Değişkenler isimlendirilirken akılda kalacak bir referans seçilmelidir. Değişken isimleri harf veya _ ile başlayabilir, Türkçe karakter içeremez, rakamla başlayamaz. Aşağıda çeşitli örnekler verilmiştir."
   ]
  },
  {
   "cell_type": "code",
   "execution_count": 25,
   "id": "6d92bade-7549-449f-b73e-8a4d860d74ca",
   "metadata": {},
   "outputs": [],
   "source": [
    "age = 1\n",
    "Age = 2\n",
    "aGe = 3\n",
    "AGE = 4\n",
    "a_g_e = 5\n",
    "_age = 6\n",
    "age_ = 7\n",
    "_AGE_ = 8"
   ]
  },
  {
   "cell_type": "markdown",
   "id": "a8362430-aa0a-40b8-8f82-d64a94bcb942",
   "metadata": {},
   "source": [
    "### Matematiksel İşlemler\n",
    "Python da toplama, çıkarma, çarpma, bölme, bölümden kalanı bulma, üs alma sırasıyla +, -, *, /, %, ** operatörleri ile yapılır. Python işlem önceliğine uyar, matematiksel ifadelerdeki parantezlere dikkat eder."
   ]
  },
  {
   "cell_type": "code",
   "execution_count": 26,
   "id": "d8db2813-0935-424d-b3d2-bd35a17e9b92",
   "metadata": {},
   "outputs": [
    {
     "data": {
      "text/plain": [
       "5.0"
      ]
     },
     "execution_count": 26,
     "metadata": {},
     "output_type": "execute_result"
    }
   ],
   "source": [
    "(50 - 5*6) / 4"
   ]
  },
  {
   "cell_type": "code",
   "execution_count": 27,
   "id": "d17265b0-6c91-424a-9703-5682540846a9",
   "metadata": {},
   "outputs": [
    {
     "data": {
      "text/plain": [
       "64"
      ]
     },
     "execution_count": 27,
     "metadata": {},
     "output_type": "execute_result"
    }
   ],
   "source": [
    "4**3"
   ]
  },
  {
   "cell_type": "code",
   "execution_count": 28,
   "id": "278db210-e7c1-481b-bae9-07e87d472135",
   "metadata": {},
   "outputs": [],
   "source": [
    "genislik = 20\n",
    "uzunluk = 5 * 9\n",
    "alan = genislik * uzunluk"
   ]
  },
  {
   "cell_type": "markdown",
   "id": "db94ccf6-71c3-4779-9056-54e878226488",
   "metadata": {},
   "source": [
    "### Ekrana yazdırma\n",
    "print() fonksiyonu parantezler arasında argüman olarak aldığı değişkenin değerini ekrana yazdırır. Örneğin yukarıda hesaplanan alan değişkenini ekrana yazdırmak için aşağıdaki satır yazılabilir."
   ]
  },
  {
   "cell_type": "code",
   "execution_count": 29,
   "id": "0e7ba154-8505-4a6c-bd2e-f285f5f3704e",
   "metadata": {},
   "outputs": [
    {
     "name": "stdout",
     "output_type": "stream",
     "text": [
      "900\n"
     ]
    }
   ],
   "source": [
    "print(alan)"
   ]
  },
  {
   "cell_type": "markdown",
   "id": "c4a201f9-d169-43bb-a245-43d58b9e202b",
   "metadata": {},
   "source": [
    "### Veri Tipleri\n",
    "Python'da çeşitli veri tipleri mevcuttur. Veri tiplerini görmek için type() fonksiyonu kullanılır. Aşağıda en çok kullanılan veri tipleri gösterilmektedir.\n",
    "\n",
    "int -> rakam\n",
    "float -> ondalıklı sayı\n",
    "string -> metin\n",
    "bool -> doğru/yanlış mantıksal durumu\n",
    "list -> liste"
   ]
  },
  {
   "cell_type": "code",
   "execution_count": 30,
   "id": "54652b16-e5eb-41a2-94df-14fd6e50e9af",
   "metadata": {},
   "outputs": [
    {
     "name": "stdout",
     "output_type": "stream",
     "text": [
      "<class 'int'>\n",
      "<class 'float'>\n",
      "<class 'str'>\n"
     ]
    }
   ],
   "source": [
    "x = 5\n",
    "print(type(x))\n",
    "y = 4.3\n",
    "print(type(y))\n",
    "s = \"metinler string olarak tutulur\"\n",
    "print(type(s))"
   ]
  },
  {
   "cell_type": "markdown",
   "id": "d8ce0bf2-6fe4-4015-bd9c-3cb3ef59e5a5",
   "metadata": {},
   "source": [
    "### Metinler\n",
    "String değişkenleri farklı biçimlerde tanımlanabilir. \" \" ve ' ' işaretleri arasına yazılan metinler string veri tipi ile tutulur. ' ' arasına alınan nümerik değerlere artık karakter dizileri gibi davranılır ve string veri tipine çevrilmiş olurlar. Örneğin '2023' artık sayısal bir anlam ifade etmez. 4 karakterden oluşan bir metin değişkenidir."
   ]
  },
  {
   "cell_type": "code",
   "execution_count": 31,
   "id": "b994cf3b-8a14-4123-929f-e513e4e98f2c",
   "metadata": {},
   "outputs": [],
   "source": [
    "str1 = 'spam mesaj'\n",
    "\n",
    "str2 = \"Merhaba dünya! Bu bir ilk mesajdır. :P\"\n",
    "\n",
    "str3 = '2023'\n"
   ]
  },
  {
   "cell_type": "markdown",
   "id": "3412bb75-4cce-4b5b-bcc6-72e830e826f9",
   "metadata": {},
   "source": [
    "Metin içerisine yazılan özel karakterler özel fonksiyonlara sahiptir. Örneğin \\n: alt satıra geçmek, \\t bir tab karakteri eklemek gibi görevlerde kullanılırlar."
   ]
  },
  {
   "cell_type": "code",
   "execution_count": 32,
   "id": "69e6feb9-dde8-4d35-a74f-09c85bc8814c",
   "metadata": {},
   "outputs": [
    {
     "name": "stdout",
     "output_type": "stream",
     "text": [
      "İlk satır.\n",
      "İkinci satır.\n"
     ]
    }
   ],
   "source": [
    "s = 'İlk satır.\\nİkinci satır.'  \n",
    "print(s)"
   ]
  },
  {
   "cell_type": "markdown",
   "id": "580185f1-4007-4751-bc2f-d5651f147b4e",
   "metadata": {},
   "source": [
    "Bazı durumlarda string içerisinde \\n kullanmak gerekir. Bu durum dosya yolları yazarken karışınıza çıkabilir. Örneğin 'C:\\oylesine\\name' gibi bir stringi ekrana yazdırırken \\n karakteri alt satıra geçilmesine neden olur. Bunu önlemek isterseniz stringin başına r ekleyebilirsiniz."
   ]
  },
  {
   "cell_type": "code",
   "execution_count": 33,
   "id": "b76d7d91-821a-4b68-98d7-0a505aba4cf6",
   "metadata": {},
   "outputs": [
    {
     "name": "stdout",
     "output_type": "stream",
     "text": [
      "C:\\oylesine\n",
      "ame\n",
      "C:\\oylesine\\name\n"
     ]
    }
   ],
   "source": [
    "print('C:\\oylesine\\name') \n",
    "print(r'C:\\oylesine\\name') \n"
   ]
  },
  {
   "cell_type": "markdown",
   "id": "cb3eb863-9aed-4abc-867c-756280e8f7c4",
   "metadata": {},
   "source": [
    "### Listeler\n",
    "\n",
    "Pythonda listeler önemli veri tiplerinden biridir. Bir liste sıralı şekilde verilen elemanları tutan bir yapıdır ve aşağıdaki gibi tanımlanabilir. Python dilinde listelerin herbir elemanın bir indisi vardır. Indisleme 0'dan başlar. Bir listenin indisi bilinen bir elemanına aşağıdaki gibi ulaşılabilir. Indisleme tersten de çalışır. -1. indis en son olmak üzere geri doğru indisleme yapılabilir."
   ]
  },
  {
   "cell_type": "code",
   "execution_count": 34,
   "id": "ebb06e83-52a6-49e4-abbe-46688dca3cc8",
   "metadata": {},
   "outputs": [
    {
     "name": "stdout",
     "output_type": "stream",
     "text": [
      "1\n",
      "9\n",
      "36\n",
      "16\n"
     ]
    }
   ],
   "source": [
    "tam_kareler = [1,4,9,16,25,36]\n",
    "print(tam_kareler[0])   #ilk eleman\n",
    "print(tam_kareler[2])   #3. eleman, indisler 0, 1, 2 \n",
    "print(tam_kareler[-1])  #sonuncu eleman\n",
    "print(tam_kareler[-3])  #sondan 3. eleman"
   ]
  },
  {
   "cell_type": "markdown",
   "id": "22b57bf8-1d03-4245-8a3b-4a5238f80893",
   "metadata": {},
   "source": [
    "Listeler dilimlenebilir. Bir listenin istenen sınırlar arasında parçalanma işlemidir."
   ]
  },
  {
   "cell_type": "code",
   "execution_count": 35,
   "id": "2ca435fa-7b8b-429a-bbb7-1ca2e3c70c35",
   "metadata": {},
   "outputs": [
    {
     "name": "stdout",
     "output_type": "stream",
     "text": [
      "[4, 9]\n",
      "[16, 25, 36]\n"
     ]
    }
   ],
   "source": [
    "print(tam_kareler[1:3])   # 1-3 indisleri arasındaki elemanlar, 1 dahil 3 hariç\n",
    "print(tam_kareler[-3:])   # sondan 3 eleman\n"
   ]
  },
  {
   "cell_type": "markdown",
   "id": "d66bb664-b148-4f7f-8b71-d92b106e6b5d",
   "metadata": {},
   "source": [
    "Listeler toplanarak birleştirilebilir. (matematiksel olarak toplanmazlar) .append metodu bir listenin sonuna eleman ekler."
   ]
  },
  {
   "cell_type": "code",
   "execution_count": 36,
   "id": "71690db8-dc73-4dea-97ed-724c00a7f624",
   "metadata": {},
   "outputs": [
    {
     "name": "stdout",
     "output_type": "stream",
     "text": [
      "[1, 4, 9, 16, 25, 36, 49, 64, 81, 100]\n",
      "[1, 4, 9, 16, 25, 36, 49, 64, 81, 100, 121]\n"
     ]
    }
   ],
   "source": [
    "tam_kareler = tam_kareler + [49, 64, 81, 100]\n",
    "print(tam_kareler)\n",
    "\n",
    "tam_kareler.append(121)   # listenin sonuna 121 elemnaını ekler\n",
    "print(tam_kareler)"
   ]
  },
  {
   "cell_type": "markdown",
   "id": "ba1bac78-e0ed-4d79-ba80-e517072b26a6",
   "metadata": {},
   "source": [
    "Aşağıda liste ve değişken atama mantığını vurgulamak amacıyla bir örnek verilmiştir."
   ]
  },
  {
   "cell_type": "code",
   "execution_count": 39,
   "id": "ae37a39f-875a-4d76-8ebe-325d7cd1796a",
   "metadata": {},
   "outputs": [
    {
     "name": "stdout",
     "output_type": "stream",
     "text": [
      "[0.22, 4.375, 13.200000000000001]\n"
     ]
    }
   ],
   "source": [
    "gerilimler = [0,0,0]\n",
    "\n",
    "akimlar = [1/1000, 5/1000, 33/1000]\n",
    "direcler = [220, 875, 400]\n",
    "\n",
    "devre_id = 0\n",
    "v0 = akimlar[devre_id]*direcler[devre_id]\n",
    "gerilimler[devre_id] = v0\n",
    "\n",
    "devre_id = 1\n",
    "v1 = akimlar[devre_id]*direcler[devre_id]\n",
    "gerilimler[devre_id] = v1\n",
    "\n",
    "devre_id = 2\n",
    "v2 = akimlar[devre_id]*direcler[devre_id]\n",
    "gerilimler[devre_id] = v2\n",
    "\n",
    "print(gerilimler)"
   ]
  }
 ],
 "metadata": {
  "kernelspec": {
   "display_name": "Python 3 (ipykernel)",
   "language": "python",
   "name": "python3"
  },
  "language_info": {
   "codemirror_mode": {
    "name": "ipython",
    "version": 3
   },
   "file_extension": ".py",
   "mimetype": "text/x-python",
   "name": "python",
   "nbconvert_exporter": "python",
   "pygments_lexer": "ipython3",
   "version": "3.11.10"
  }
 },
 "nbformat": 4,
 "nbformat_minor": 5
}
