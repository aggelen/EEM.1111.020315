{
 "cells": [
  {
   "cell_type": "markdown",
   "id": "8fb967a5",
   "metadata": {},
   "source": [
    "3. Hafta Python Temelleri\n",
    "Uygulama Dersi"
   ]
  },
  {
   "cell_type": "markdown",
   "id": "115d7698",
   "metadata": {},
   "source": [
    "Konsept: Listeyi bir döngü ile doldurma. Amacımız kurallı bir sayı dizisi oluşturmak. While döngüsü şart doğru olduğu sürece altında kalan hizalı bloğu çalıştırıyor. Bu bloktaki append listeyi dolduruyor."
   ]
  },
  {
   "cell_type": "code",
   "execution_count": null,
   "id": "d62d5749",
   "metadata": {},
   "outputs": [],
   "source": [
    "sayi_listesi = []\n",
    "limit = 10\n",
    "i = 0\n",
    "\n",
    "while i < limit:\n",
    "    sayi_listesi.append(i)\n",
    "    i = i + 1\n",
    "    \n",
    "print(len(sayi_listesi))\n",
    "print(sayi_listesi)"
   ]
  },
  {
   "cell_type": "markdown",
   "id": "03182ab8",
   "metadata": {},
   "source": [
    "Yukarıdaki kodu liste 10 elemanını içerecek şekilde değiştirelim. Önce i değişkenini artırıp daha sonra append çalıştırıyoruz. Böylece append edilen değerler ve son elemanı kontrol edebiliriz. Aynı mantıkla limit değişkeni ve i değişkeninin nasıl artacağı kontrol edilip kodun davranışı değiştirilebilir."
   ]
  },
  {
   "cell_type": "code",
   "execution_count": 2,
   "id": "7374310f",
   "metadata": {},
   "outputs": [
    {
     "name": "stdout",
     "output_type": "stream",
     "text": [
      "10\n",
      "[1, 2, 3, 4, 5, 6, 7, 8, 9, 10]\n"
     ]
    }
   ],
   "source": [
    "sayi_listesi = []\n",
    "limit = 10\n",
    "i = 0\n",
    "\n",
    "while i < limit:\n",
    "    i = i + 1\n",
    "    sayi_listesi.append(i)\n",
    "    \n",
    "print(len(sayi_listesi))\n",
    "print(sayi_listesi)"
   ]
  },
  {
   "cell_type": "markdown",
   "id": "9b07da03",
   "metadata": {},
   "source": [
    "Kodu liste 0 dan başlayacak ve sadece 10 un katlarını içerecek şekilde değiştirelim. Limit 500 olsun. Bunu yapmanın birçok yolu bulunmaktadır. Bunlaradan ikisi aşağıdaki bloklarda gösterilmiştir."
   ]
  },
  {
   "cell_type": "code",
   "execution_count": 3,
   "id": "70098a07",
   "metadata": {},
   "outputs": [
    {
     "name": "stdout",
     "output_type": "stream",
     "text": [
      "50\n",
      "[0, 10, 20, 30, 40, 50, 60, 70, 80, 90, 100, 110, 120, 130, 140, 150, 160, 170, 180, 190, 200, 210, 220, 230, 240, 250, 260, 270, 280, 290, 300, 310, 320, 330, 340, 350, 360, 370, 380, 390, 400, 410, 420, 430, 440, 450, 460, 470, 480, 490]\n"
     ]
    }
   ],
   "source": [
    "sayi_listesi = []\n",
    "limit = 50\n",
    "i = 0\n",
    "\n",
    "while i < limit:\n",
    "    sayi_listesi.append(i*10)\n",
    "    i = i + 1\n",
    "    \n",
    "print(len(sayi_listesi))\n",
    "print(sayi_listesi)"
   ]
  },
  {
   "cell_type": "code",
   "execution_count": 4,
   "id": "c38754d5",
   "metadata": {},
   "outputs": [
    {
     "name": "stdout",
     "output_type": "stream",
     "text": [
      "50\n",
      "[0, 10, 20, 30, 40, 50, 60, 70, 80, 90, 100, 110, 120, 130, 140, 150, 160, 170, 180, 190, 200, 210, 220, 230, 240, 250, 260, 270, 280, 290, 300, 310, 320, 330, 340, 350, 360, 370, 380, 390, 400, 410, 420, 430, 440, 450, 460, 470, 480, 490]\n"
     ]
    }
   ],
   "source": [
    "sayi_listesi = []\n",
    "limit = 500\n",
    "i = 0\n",
    "\n",
    "while i < limit:\n",
    "    sayi_listesi.append(i)\n",
    "    i = i + 10\n",
    "    \n",
    "print(len(sayi_listesi))\n",
    "print(sayi_listesi)"
   ]
  },
  {
   "cell_type": "markdown",
   "id": "e015b66a",
   "metadata": {},
   "source": [
    "Python kütüphaneleri python paket yönetici ile kurulabilir. Bunun için terminale pip install paket_adi gibi bir komut girmeniz gerekir. Örnek olarak numpy ve matplotlib kütüphanelerini kuralım."
   ]
  },
  {
   "cell_type": "code",
   "execution_count": 18,
   "id": "22d4f605",
   "metadata": {},
   "outputs": [
    {
     "name": "stdout",
     "output_type": "stream",
     "text": [
      "Requirement already satisfied: numpy in c:\\users\\dell\\anaconda3\\envs\\bilg_programlama\\lib\\site-packages (1.24.4)\n",
      "Requirement already satisfied: matplotlib in c:\\users\\dell\\anaconda3\\envs\\bilg_programlama\\lib\\site-packages (3.7.3)\n",
      "Requirement already satisfied: contourpy>=1.0.1 in c:\\users\\dell\\anaconda3\\envs\\bilg_programlama\\lib\\site-packages (from matplotlib) (1.1.1)\n",
      "Requirement already satisfied: cycler>=0.10 in c:\\users\\dell\\anaconda3\\envs\\bilg_programlama\\lib\\site-packages (from matplotlib) (0.12.1)\n",
      "Requirement already satisfied: fonttools>=4.22.0 in c:\\users\\dell\\anaconda3\\envs\\bilg_programlama\\lib\\site-packages (from matplotlib) (4.43.1)\n",
      "Requirement already satisfied: kiwisolver>=1.0.1 in c:\\users\\dell\\anaconda3\\envs\\bilg_programlama\\lib\\site-packages (from matplotlib) (1.4.5)\n",
      "Requirement already satisfied: numpy<2,>=1.20 in c:\\users\\dell\\anaconda3\\envs\\bilg_programlama\\lib\\site-packages (from matplotlib) (1.24.4)\n",
      "Requirement already satisfied: packaging>=20.0 in c:\\users\\dell\\anaconda3\\envs\\bilg_programlama\\lib\\site-packages (from matplotlib) (23.1)\n",
      "Requirement already satisfied: pillow>=6.2.0 in c:\\users\\dell\\anaconda3\\envs\\bilg_programlama\\lib\\site-packages (from matplotlib) (10.1.0)\n",
      "Requirement already satisfied: pyparsing>=2.3.1 in c:\\users\\dell\\anaconda3\\envs\\bilg_programlama\\lib\\site-packages (from matplotlib) (3.1.1)\n",
      "Requirement already satisfied: python-dateutil>=2.7 in c:\\users\\dell\\anaconda3\\envs\\bilg_programlama\\lib\\site-packages (from matplotlib) (2.8.2)\n",
      "Requirement already satisfied: importlib-resources>=3.2.0 in c:\\users\\dell\\anaconda3\\envs\\bilg_programlama\\lib\\site-packages (from matplotlib) (5.2.0)\n",
      "Requirement already satisfied: zipp>=3.1.0 in c:\\users\\dell\\anaconda3\\envs\\bilg_programlama\\lib\\site-packages (from importlib-resources>=3.2.0->matplotlib) (3.11.0)\n",
      "Requirement already satisfied: six>=1.5 in c:\\users\\dell\\anaconda3\\envs\\bilg_programlama\\lib\\site-packages (from python-dateutil>=2.7->matplotlib) (1.16.0)\n"
     ]
    }
   ],
   "source": [
    "!pip install numpy\n",
    "!pip install matplotlib"
   ]
  },
  {
   "cell_type": "code",
   "execution_count": null,
   "id": "8a496f4e",
   "metadata": {},
   "outputs": [],
   "source": [
    "Bir kütüphaneyi kullanabilmek için import etmek gerekir. import ettikten sonra kütüphane adını kısaltmak için \n",
    "kısa bir değişken ismi verilebilir. Örneğin numpy kütüphanesi import edilip np olarak aşağıdaki gibi kısaltılabilir."
   ]
  },
  {
   "cell_type": "code",
   "execution_count": 8,
   "id": "7dd76256",
   "metadata": {},
   "outputs": [],
   "source": [
    "import numpy as np"
   ]
  },
  {
   "cell_type": "raw",
   "id": "0bf16b4b",
   "metadata": {},
   "source": [
    "Numpy: Python matematik kütüphanesidir. Matematiksel fonksiyonlar doğrudan kullanılabilir."
   ]
  },
  {
   "cell_type": "code",
   "execution_count": 9,
   "id": "fea2bc56",
   "metadata": {},
   "outputs": [],
   "source": [
    "import numpy as np\n",
    "# np.sin fonksiyonu kendisine radyan cinsinden verilen değerin sinüsünü hesaplar ve döner.\n",
    "a = np.sin(1.36)"
   ]
  },
  {
   "cell_type": "markdown",
   "id": "a3891cc8",
   "metadata": {},
   "source": [
    "Görev: 0 ile 2pi arasındaki değerlerin sinüslerini hesaplamak ve bir listede tutmak. 0 ile 2pi arasını 0.05 adımlarla bölüp \n",
    "sinüsler hesaplanabilir.\n"
   ]
  },
  {
   "cell_type": "code",
   "execution_count": 16,
   "id": "1699c4f5",
   "metadata": {},
   "outputs": [
    {
     "name": "stdout",
     "output_type": "stream",
     "text": [
      "[ 0.          0.04997917  0.09983342  0.14943813  0.19866933  0.24740396\n",
      "  0.29552021  0.34289781  0.38941834  0.43496553  0.47942554  0.52268723\n",
      "  0.56464247  0.60518641  0.64421769  0.68163876  0.71735609  0.75128041\n",
      "  0.78332691  0.8134155   0.84147098  0.86742323  0.89120736  0.91276394\n",
      "  0.93203909  0.94898462  0.96355819  0.97572336  0.98544973  0.99271299\n",
      "  0.99749499  0.99978376  0.9995736   0.99686503  0.99166481  0.98398595\n",
      "  0.97384763  0.9612752   0.94630009  0.92895972  0.90929743  0.88736237\n",
      "  0.86320937  0.83689879  0.8084964   0.7780732   0.74570521  0.71147335\n",
      "  0.67546318  0.6377647   0.59847214  0.55768372  0.51550137  0.47203054\n",
      "  0.42737988  0.38166099  0.33498815  0.28747801  0.23924933  0.19042265\n",
      "  0.14112001  0.09146464  0.04158066 -0.00840725 -0.05837414 -0.10819513\n",
      " -0.15774569 -0.20690197 -0.2555411  -0.30354151 -0.35078323 -0.39714817\n",
      " -0.44252044 -0.48678665 -0.52983614 -0.57156132 -0.61185789 -0.65062514\n",
      " -0.68776616 -0.72318812 -0.7568025  -0.78852525 -0.81827711 -0.8459837\n",
      " -0.87157577 -0.89498936 -0.91616594 -0.93505258 -0.95160207 -0.96577306\n",
      " -0.97753012 -0.98684386 -0.993691   -0.99805444 -0.99992326 -0.99929279\n",
      " -0.99616461 -0.99054654 -0.98245261 -0.97190307 -0.95892427 -0.94354867\n",
      " -0.92581468 -0.90576664 -0.88345466 -0.85893449 -0.83226744 -0.80352016\n",
      " -0.77276449 -0.74007731 -0.70554033 -0.66923986 -0.63126664 -0.59171558\n",
      " -0.55068554 -0.50827908 -0.46460218 -0.41976402 -0.37387666 -0.32705481\n",
      " -0.2794155  -0.23107779 -0.1821625  -0.13279191 -0.0830894  -0.03317922]\n"
     ]
    }
   ],
   "source": [
    "import numpy as np\n",
    "\n",
    "girdiler = np.arange(0, 2*np.pi, 0.05)\n",
    "sonuclar = np.sin(girdiler)\n",
    "\n",
    "print(sonuclar)"
   ]
  },
  {
   "cell_type": "markdown",
   "id": "48e7421c",
   "metadata": {},
   "source": [
    "Matplotlib kütüphanesi python'da görselleştirme için kullanılan standart bir kütüphanedir. Bu kütüphanenin alt bir modülünü import edelim."
   ]
  },
  {
   "cell_type": "code",
   "execution_count": 19,
   "id": "797dbfa3",
   "metadata": {},
   "outputs": [],
   "source": [
    "import matplotlib.pyplot as plt"
   ]
  },
  {
   "cell_type": "markdown",
   "id": "a554293a",
   "metadata": {},
   "source": [
    "Bu modülün plt fonksiyonu girdi vektörünü indexe bağlı olarak ekrana çizer."
   ]
  },
  {
   "cell_type": "code",
   "execution_count": 20,
   "id": "be50a102",
   "metadata": {},
   "outputs": [
    {
     "data": {
      "text/plain": [
       "[<matplotlib.lines.Line2D at 0x28935ea9970>]"
      ]
     },
     "execution_count": 20,
     "metadata": {},
     "output_type": "execute_result"
    },
    {
     "data": {
      "image/png": "[encoded data removed]",
      "text/plain": [
       "<Figure size 640x480 with 1 Axes>"
      ]
     },
     "metadata": {},
     "output_type": "display_data"
    }
   ],
   "source": [
    "plt.plot(sonuclar)"
   ]
  },
  {
   "cell_type": "code",
   "execution_count": null,
   "id": "7c432655",
   "metadata": {},
   "outputs": [],
   "source": []
  }
 ],
 "metadata": {
  "kernelspec": {
   "display_name": "Python 3 (ipykernel)",
   "language": "python",
   "name": "python3"
  },
  "language_info": {
   "codemirror_mode": {
    "name": "ipython",
    "version": 3
   },
   "file_extension": ".py",
   "mimetype": "text/x-python",
   "name": "python",
   "nbconvert_exporter": "python",
   "pygments_lexer": "ipython3",
   "version": "3.8.18"
  }
 },
 "nbformat": 4,
 "nbformat_minor": 5
}
